{
 "cells": [
  {
   "cell_type": "markdown",
   "id": "483dc944",
   "metadata": {},
   "source": [
    "# dbt Cloud dbtc Quick Overview - Calling Jobs\n",
    "\n",
    "### In this notebook we do the following:\n",
    "- Import the dbtc package (dbt Cloud API SDK)\n",
    "- Kick off a dbt Cloud Job\n",
    "- Retrieve the status of that job\n",
    "- Log the status of the job after it's finished\n",
    "\n",
    "\n",
    "dbtc docs can be found [here](https://dbtc.dpguthrie.com/0.3/guide/cloud/)\n"
   ]
  },
  {
   "cell_type": "markdown",
   "id": "40871eb8",
   "metadata": {},
   "source": [
    "#### Installing dbtc"
   ]
  },
  {
   "cell_type": "code",
   "execution_count": 3,
   "id": "d035fce9",
   "metadata": {},
   "outputs": [],
   "source": [
    "from dbtc import dbtCloudClient\n",
    "import time"
   ]
  },
  {
   "cell_type": "markdown",
   "id": "2bf0f7e6",
   "metadata": {},
   "source": [
    "#### Defing the service token"
   ]
  },
  {
   "cell_type": "code",
   "execution_count": 11,
   "id": "871c8cd7",
   "metadata": {},
   "outputs": [],
   "source": [
    "# dbt_cloud_service_token = 'dbts_DQ_5d1kOyBEGisNJPq0oPRm_JQW2uJT1oSOPWCqQcizEZkxAg0Jm6DIQ=='"
   ]
  },
  {
   "cell_type": "markdown",
   "id": "078dd7aa",
   "metadata": {},
   "source": [
    "#### Enabling the client"
   ]
  },
  {
   "cell_type": "code",
   "execution_count": 12,
   "id": "a4ff033d",
   "metadata": {},
   "outputs": [],
   "source": [
    "dbt_cloud_client = dbtCloudClient(service_token=dbt_cloud_service_token)"
   ]
  },
  {
   "cell_type": "markdown",
   "id": "80115483",
   "metadata": {},
   "source": [
    "#### Setting up the inputs "
   ]
  },
  {
   "cell_type": "code",
   "execution_count": 13,
   "id": "e54346b6",
   "metadata": {},
   "outputs": [],
   "source": [
    "dbt_cloud_account_id = 123456\n",
    "dbt_cloud_job_id = 569845\n",
    "job_payload = {\n",
    "  \"cause\": \"Kicked off from Jupyter Notebook by Steve\"\n",
    "}"
   ]
  },
  {
   "cell_type": "markdown",
   "id": "b8dbb409",
   "metadata": {},
   "source": [
    "#### Kicking off the job with polling set to True"
   ]
  },
  {
   "cell_type": "code",
   "execution_count": 14,
   "id": "377bd4ba",
   "metadata": {},
   "outputs": [
    {
     "data": {
      "text/html": [
       "<pre style=\"white-space:pre;overflow-x:auto;line-height:normal;font-family:Menlo,'DejaVu Sans Mono',consolas,'Courier New',monospace\"><span style=\"color: #7fbfbf; text-decoration-color: #7fbfbf\">[16:26:48] </span>Status: <span style=\"color: #008000; text-decoration-color: #008000\">\"Queued\"</span>, Elapsed time: 0s, View here:                                             <a href=\"file:///opt/homebrew/lib/python3.9/site-packages/dbtc/client/admin.py\" target=\"_blank\"><span style=\"color: #7f7f7f; text-decoration-color: #7f7f7f\">admin.py</span></a><span style=\"color: #7f7f7f; text-decoration-color: #7f7f7f\">:</span><a href=\"file:///opt/homebrew/lib/python3.9/site-packages/dbtc/client/admin.py#1367\" target=\"_blank\"><span style=\"color: #7f7f7f; text-decoration-color: #7f7f7f\">1367</span></a>\n",
       "<span style=\"color: #7fbfbf; text-decoration-color: #7fbfbf\">           </span><span style=\"color: #0000ff; text-decoration-color: #0000ff; text-decoration: underline\">https://cloud.getdbt.com/next/deploy/96504/projects/161955/runs/100845044/</span>                 <span style=\"color: #7f7f7f; text-decoration-color: #7f7f7f\">             </span>\n",
       "</pre>\n"
      ],
      "text/plain": [
       "\u001b[2;36m[16:26:48]\u001b[0m\u001b[2;36m \u001b[0mStatus: \u001b[32m\"Queued\"\u001b[0m, Elapsed time: 0s, View here:                                             \u001b]8;id=157857;file:///opt/homebrew/lib/python3.9/site-packages/dbtc/client/admin.py\u001b\\\u001b[2madmin.py\u001b[0m\u001b]8;;\u001b\\\u001b[2m:\u001b[0m\u001b]8;id=569151;file:///opt/homebrew/lib/python3.9/site-packages/dbtc/client/admin.py#1367\u001b\\\u001b[2m1367\u001b[0m\u001b]8;;\u001b\\\n",
       "\u001b[2;36m           \u001b[0m\u001b[4;94mhttps://cloud.getdbt.com/next/deploy/96504/projects/161955/runs/100845044/\u001b[0m                 \u001b[2m             \u001b[0m\n"
      ]
     },
     "metadata": {},
     "output_type": "display_data"
    },
    {
     "data": {
      "text/html": [
       "<pre style=\"white-space:pre;overflow-x:auto;line-height:normal;font-family:Menlo,'DejaVu Sans Mono',consolas,'Courier New',monospace\"><span style=\"color: #7fbfbf; text-decoration-color: #7fbfbf\">[16:26:59] </span>Status: <span style=\"color: #008000; text-decoration-color: #008000\">\"Running\"</span>, Elapsed time: <span style=\"color: #008080; text-decoration-color: #008080; font-weight: bold\">10.</span>0s, View here:                                         <a href=\"file:///opt/homebrew/lib/python3.9/site-packages/dbtc/client/admin.py\" target=\"_blank\"><span style=\"color: #7f7f7f; text-decoration-color: #7f7f7f\">admin.py</span></a><span style=\"color: #7f7f7f; text-decoration-color: #7f7f7f\">:</span><a href=\"file:///opt/homebrew/lib/python3.9/site-packages/dbtc/client/admin.py#1375\" target=\"_blank\"><span style=\"color: #7f7f7f; text-decoration-color: #7f7f7f\">1375</span></a>\n",
       "<span style=\"color: #7fbfbf; text-decoration-color: #7fbfbf\">           </span><span style=\"color: #0000ff; text-decoration-color: #0000ff; text-decoration: underline\">https://cloud.getdbt.com/next/deploy/96504/projects/161955/runs/100845044/</span>                 <span style=\"color: #7f7f7f; text-decoration-color: #7f7f7f\">             </span>\n",
       "</pre>\n"
      ],
      "text/plain": [
       "\u001b[2;36m[16:26:59]\u001b[0m\u001b[2;36m \u001b[0mStatus: \u001b[32m\"Running\"\u001b[0m, Elapsed time: \u001b[1;36m10.\u001b[0m0s, View here:                                         \u001b]8;id=351767;file:///opt/homebrew/lib/python3.9/site-packages/dbtc/client/admin.py\u001b\\\u001b[2madmin.py\u001b[0m\u001b]8;;\u001b\\\u001b[2m:\u001b[0m\u001b]8;id=152971;file:///opt/homebrew/lib/python3.9/site-packages/dbtc/client/admin.py#1375\u001b\\\u001b[2m1375\u001b[0m\u001b]8;;\u001b\\\n",
       "\u001b[2;36m           \u001b[0m\u001b[4;94mhttps://cloud.getdbt.com/next/deploy/96504/projects/161955/runs/100845044/\u001b[0m                 \u001b[2m             \u001b[0m\n"
      ]
     },
     "metadata": {},
     "output_type": "display_data"
    },
    {
     "data": {
      "text/html": [
       "<pre style=\"white-space:pre;overflow-x:auto;line-height:normal;font-family:Menlo,'DejaVu Sans Mono',consolas,'Courier New',monospace\"><span style=\"color: #7fbfbf; text-decoration-color: #7fbfbf\">[16:27:09] </span>Status: <span style=\"color: #008000; text-decoration-color: #008000\">\"Running\"</span>, Elapsed time: <span style=\"color: #008080; text-decoration-color: #008080; font-weight: bold\">21.</span>0s, View here:                                         <a href=\"file:///opt/homebrew/lib/python3.9/site-packages/dbtc/client/admin.py\" target=\"_blank\"><span style=\"color: #7f7f7f; text-decoration-color: #7f7f7f\">admin.py</span></a><span style=\"color: #7f7f7f; text-decoration-color: #7f7f7f\">:</span><a href=\"file:///opt/homebrew/lib/python3.9/site-packages/dbtc/client/admin.py#1375\" target=\"_blank\"><span style=\"color: #7f7f7f; text-decoration-color: #7f7f7f\">1375</span></a>\n",
       "<span style=\"color: #7fbfbf; text-decoration-color: #7fbfbf\">           </span><span style=\"color: #0000ff; text-decoration-color: #0000ff; text-decoration: underline\">https://cloud.getdbt.com/next/deploy/96504/projects/161955/runs/100845044/</span>                 <span style=\"color: #7f7f7f; text-decoration-color: #7f7f7f\">             </span>\n",
       "</pre>\n"
      ],
      "text/plain": [
       "\u001b[2;36m[16:27:09]\u001b[0m\u001b[2;36m \u001b[0mStatus: \u001b[32m\"Running\"\u001b[0m, Elapsed time: \u001b[1;36m21.\u001b[0m0s, View here:                                         \u001b]8;id=111967;file:///opt/homebrew/lib/python3.9/site-packages/dbtc/client/admin.py\u001b\\\u001b[2madmin.py\u001b[0m\u001b]8;;\u001b\\\u001b[2m:\u001b[0m\u001b]8;id=629305;file:///opt/homebrew/lib/python3.9/site-packages/dbtc/client/admin.py#1375\u001b\\\u001b[2m1375\u001b[0m\u001b]8;;\u001b\\\n",
       "\u001b[2;36m           \u001b[0m\u001b[4;94mhttps://cloud.getdbt.com/next/deploy/96504/projects/161955/runs/100845044/\u001b[0m                 \u001b[2m             \u001b[0m\n"
      ]
     },
     "metadata": {},
     "output_type": "display_data"
    },
    {
     "data": {
      "text/html": [
       "<pre style=\"white-space:pre;overflow-x:auto;line-height:normal;font-family:Menlo,'DejaVu Sans Mono',consolas,'Courier New',monospace\"><span style=\"color: #7fbfbf; text-decoration-color: #7fbfbf\">[16:27:20] </span>Status: <span style=\"color: #008000; text-decoration-color: #008000\">\"Success\"</span>, Elapsed time: <span style=\"color: #008080; text-decoration-color: #008080; font-weight: bold\">31.</span>0s, View here:                                         <a href=\"file:///opt/homebrew/lib/python3.9/site-packages/dbtc/client/admin.py\" target=\"_blank\"><span style=\"color: #7f7f7f; text-decoration-color: #7f7f7f\">admin.py</span></a><span style=\"color: #7f7f7f; text-decoration-color: #7f7f7f\">:</span><a href=\"file:///opt/homebrew/lib/python3.9/site-packages/dbtc/client/admin.py#1375\" target=\"_blank\"><span style=\"color: #7f7f7f; text-decoration-color: #7f7f7f\">1375</span></a>\n",
       "<span style=\"color: #7fbfbf; text-decoration-color: #7fbfbf\">           </span><span style=\"color: #0000ff; text-decoration-color: #0000ff; text-decoration: underline\">https://cloud.getdbt.com/next/deploy/96504/projects/161955/runs/100845044/</span>                 <span style=\"color: #7f7f7f; text-decoration-color: #7f7f7f\">             </span>\n",
       "</pre>\n"
      ],
      "text/plain": [
       "\u001b[2;36m[16:27:20]\u001b[0m\u001b[2;36m \u001b[0mStatus: \u001b[32m\"Success\"\u001b[0m, Elapsed time: \u001b[1;36m31.\u001b[0m0s, View here:                                         \u001b]8;id=709961;file:///opt/homebrew/lib/python3.9/site-packages/dbtc/client/admin.py\u001b\\\u001b[2madmin.py\u001b[0m\u001b]8;;\u001b\\\u001b[2m:\u001b[0m\u001b]8;id=43310;file:///opt/homebrew/lib/python3.9/site-packages/dbtc/client/admin.py#1375\u001b\\\u001b[2m1375\u001b[0m\u001b]8;;\u001b\\\n",
       "\u001b[2;36m           \u001b[0m\u001b[4;94mhttps://cloud.getdbt.com/next/deploy/96504/projects/161955/runs/100845044/\u001b[0m                 \u001b[2m             \u001b[0m\n"
      ]
     },
     "metadata": {},
     "output_type": "display_data"
    }
   ],
   "source": [
    "# triggering dbt cloud job \n",
    "job_trigger = dbt_cloud_client.cloud.trigger_job(account_id = dbt_cloud_account_id, \n",
    "                                      job_id = dbt_cloud_job_id, \n",
    "                                      payload = job_payload, \n",
    "                                      should_poll = True,\n",
    "                                      poll_interval = 10)\n"
   ]
  },
  {
   "cell_type": "markdown",
   "id": "df81b14d",
   "metadata": {},
   "source": [
    "#### Kicking off the job with polling set to False"
   ]
  },
  {
   "cell_type": "code",
   "execution_count": 15,
   "id": "c872eea2",
   "metadata": {},
   "outputs": [
    {
     "data": {
      "text/html": [
       "<pre style=\"white-space:pre;overflow-x:auto;line-height:normal;font-family:Menlo,'DejaVu Sans Mono',consolas,'Courier New',monospace\"><span style=\"color: #7fbfbf; text-decoration-color: #7fbfbf\">[16:27:27] </span>Status: <span style=\"color: #008000; text-decoration-color: #008000\">\"Queued\"</span>, Elapsed time: 0s, View here:                                             <a href=\"file:///opt/homebrew/lib/python3.9/site-packages/dbtc/client/admin.py\" target=\"_blank\"><span style=\"color: #7f7f7f; text-decoration-color: #7f7f7f\">admin.py</span></a><span style=\"color: #7f7f7f; text-decoration-color: #7f7f7f\">:</span><a href=\"file:///opt/homebrew/lib/python3.9/site-packages/dbtc/client/admin.py#1367\" target=\"_blank\"><span style=\"color: #7f7f7f; text-decoration-color: #7f7f7f\">1367</span></a>\n",
       "<span style=\"color: #7fbfbf; text-decoration-color: #7fbfbf\">           </span><span style=\"color: #0000ff; text-decoration-color: #0000ff; text-decoration: underline\">https://cloud.getdbt.com/next/deploy/96504/projects/161955/runs/100845086/</span>                 <span style=\"color: #7f7f7f; text-decoration-color: #7f7f7f\">             </span>\n",
       "</pre>\n"
      ],
      "text/plain": [
       "\u001b[2;36m[16:27:27]\u001b[0m\u001b[2;36m \u001b[0mStatus: \u001b[32m\"Queued\"\u001b[0m, Elapsed time: 0s, View here:                                             \u001b]8;id=709165;file:///opt/homebrew/lib/python3.9/site-packages/dbtc/client/admin.py\u001b\\\u001b[2madmin.py\u001b[0m\u001b]8;;\u001b\\\u001b[2m:\u001b[0m\u001b]8;id=615173;file:///opt/homebrew/lib/python3.9/site-packages/dbtc/client/admin.py#1367\u001b\\\u001b[2m1367\u001b[0m\u001b]8;;\u001b\\\n",
       "\u001b[2;36m           \u001b[0m\u001b[4;94mhttps://cloud.getdbt.com/next/deploy/96504/projects/161955/runs/100845086/\u001b[0m                 \u001b[2m             \u001b[0m\n"
      ]
     },
     "metadata": {},
     "output_type": "display_data"
    }
   ],
   "source": [
    "job_trigger = dbt_cloud_client.cloud.trigger_job(account_id = dbt_cloud_account_id, \n",
    "                                      job_id = dbt_cloud_job_id, \n",
    "                                      payload = job_payload, \n",
    "                                      should_poll = False)"
   ]
  },
  {
   "cell_type": "code",
   "execution_count": 16,
   "id": "b2bc8aed",
   "metadata": {},
   "outputs": [
    {
     "name": "stdout",
     "output_type": "stream",
     "text": [
      "dbt Cloud job run 100845086 curretly has a status of Running\n",
      "dbt Cloud job run 100845086 curretly has a status of Running\n",
      "dbt Cloud job run 100845086 curretly has a status of Running\n",
      "dbt Cloud job run 100845086 curretly has a status of Success\n",
      "dbt Cloud job run 100845086 finished with the status Success\n"
     ]
    }
   ],
   "source": [
    "# defining the run status map\n",
    "run_status_map = {\n",
    "  1:  'Queued',\n",
    "  2:  'Starting',\n",
    "  3:  'Running',\n",
    "  10: 'Success',\n",
    "  20: 'Error',\n",
    "  30: 'Cancelled',\n",
    "}\n",
    "\n",
    "# getting the job run id from the run\n",
    "job_run_id = job_trigger['data']['id']\n",
    "\n",
    "# defining run status\n",
    "run_status = dbt_cloud_client.cloud.get_run(account_id = dbt_cloud_account_id, \n",
    "                               run_id = job_run_id)['data']['status']\n",
    "\n",
    "# running a while loop to get the job status \n",
    "while run_status in [1, 2, 3]:\n",
    "    \n",
    "    # sleep for 5 seconds\n",
    "    time.sleep(5)\n",
    "    \n",
    "    # retrieving the updated status\n",
    "    run_status = dbt_cloud_client.cloud.get_run(account_id = dbt_cloud_account_id, \n",
    "                               run_id = job_run_id)['data']['status']\n",
    "\n",
    "    # printing the status\n",
    "    print(f\"dbt Cloud job run {job_run_id} curretly has a status of {run_status_map[run_status]}\")\n",
    "    \n",
    "    \n",
    "# print the final status of the job \n",
    "print(f\"dbt Cloud job run {job_run_id} finished with the status {run_status_map[run_status]}\")"
   ]
  },
  {
   "cell_type": "markdown",
   "id": "33329fef",
   "metadata": {},
   "source": [
    "#### Kicking off the job with step over-rides\n",
    "\n",
    "Example Payload - API docs are [here](https://documenter.getpostman.com/view/14183654/UVsSNiXC#148fd718-6440-46f2-998a-8a05eb5df4ad)\n",
    "\n",
    "```{\n",
    "  \"cause\": \"Kicked off from Airflow\",\n",
    "  \"git_branch\": \"staging\",\n",
    "  \"schema_override\": \"dbt_cloud_pr_123\",\n",
    "  \"dbt_version_override\": \"1.0.1\",\n",
    "  \"target_name_override\": \"staging\",\n",
    "  \"timeout_seconds_override\": 3000,\n",
    "  \"generate_docs_override\": true,\n",
    "  \"threads_override\": 8,\n",
    "  \"steps_override\": [\n",
    "    \"dbt seed\",\n",
    "    \"dbt run --fail-fast\",\n",
    "    \"dbt test --fail-fast\"\n",
    "  ]\n",
    "}'```"
   ]
  },
  {
   "cell_type": "code",
   "execution_count": 17,
   "id": "9750d057",
   "metadata": {},
   "outputs": [
    {
     "data": {
      "text/html": [
       "<pre style=\"white-space:pre;overflow-x:auto;line-height:normal;font-family:Menlo,'DejaVu Sans Mono',consolas,'Courier New',monospace\"><span style=\"color: #7fbfbf; text-decoration-color: #7fbfbf\">[16:30:52] </span>Status: <span style=\"color: #008000; text-decoration-color: #008000\">\"Queued\"</span>, Elapsed time: 0s, View here:                                             <a href=\"file:///opt/homebrew/lib/python3.9/site-packages/dbtc/client/admin.py\" target=\"_blank\"><span style=\"color: #7f7f7f; text-decoration-color: #7f7f7f\">admin.py</span></a><span style=\"color: #7f7f7f; text-decoration-color: #7f7f7f\">:</span><a href=\"file:///opt/homebrew/lib/python3.9/site-packages/dbtc/client/admin.py#1367\" target=\"_blank\"><span style=\"color: #7f7f7f; text-decoration-color: #7f7f7f\">1367</span></a>\n",
       "<span style=\"color: #7fbfbf; text-decoration-color: #7fbfbf\">           </span><span style=\"color: #0000ff; text-decoration-color: #0000ff; text-decoration: underline\">https://cloud.getdbt.com/next/deploy/96504/projects/161955/runs/100846129/</span>                 <span style=\"color: #7f7f7f; text-decoration-color: #7f7f7f\">             </span>\n",
       "</pre>\n"
      ],
      "text/plain": [
       "\u001b[2;36m[16:30:52]\u001b[0m\u001b[2;36m \u001b[0mStatus: \u001b[32m\"Queued\"\u001b[0m, Elapsed time: 0s, View here:                                             \u001b]8;id=708750;file:///opt/homebrew/lib/python3.9/site-packages/dbtc/client/admin.py\u001b\\\u001b[2madmin.py\u001b[0m\u001b]8;;\u001b\\\u001b[2m:\u001b[0m\u001b]8;id=505401;file:///opt/homebrew/lib/python3.9/site-packages/dbtc/client/admin.py#1367\u001b\\\u001b[2m1367\u001b[0m\u001b]8;;\u001b\\\n",
       "\u001b[2;36m           \u001b[0m\u001b[4;94mhttps://cloud.getdbt.com/next/deploy/96504/projects/161955/runs/100846129/\u001b[0m                 \u001b[2m             \u001b[0m\n"
      ]
     },
     "metadata": {},
     "output_type": "display_data"
    },
    {
     "data": {
      "text/html": [
       "<pre style=\"white-space:pre;overflow-x:auto;line-height:normal;font-family:Menlo,'DejaVu Sans Mono',consolas,'Courier New',monospace\"><span style=\"color: #7fbfbf; text-decoration-color: #7fbfbf\">[16:31:02] </span>Status: <span style=\"color: #008000; text-decoration-color: #008000\">\"Running\"</span>, Elapsed time: <span style=\"color: #008080; text-decoration-color: #008080; font-weight: bold\">10.</span>0s, View here:                                         <a href=\"file:///opt/homebrew/lib/python3.9/site-packages/dbtc/client/admin.py\" target=\"_blank\"><span style=\"color: #7f7f7f; text-decoration-color: #7f7f7f\">admin.py</span></a><span style=\"color: #7f7f7f; text-decoration-color: #7f7f7f\">:</span><a href=\"file:///opt/homebrew/lib/python3.9/site-packages/dbtc/client/admin.py#1375\" target=\"_blank\"><span style=\"color: #7f7f7f; text-decoration-color: #7f7f7f\">1375</span></a>\n",
       "<span style=\"color: #7fbfbf; text-decoration-color: #7fbfbf\">           </span><span style=\"color: #0000ff; text-decoration-color: #0000ff; text-decoration: underline\">https://cloud.getdbt.com/next/deploy/96504/projects/161955/runs/100846129/</span>                 <span style=\"color: #7f7f7f; text-decoration-color: #7f7f7f\">             </span>\n",
       "</pre>\n"
      ],
      "text/plain": [
       "\u001b[2;36m[16:31:02]\u001b[0m\u001b[2;36m \u001b[0mStatus: \u001b[32m\"Running\"\u001b[0m, Elapsed time: \u001b[1;36m10.\u001b[0m0s, View here:                                         \u001b]8;id=980614;file:///opt/homebrew/lib/python3.9/site-packages/dbtc/client/admin.py\u001b\\\u001b[2madmin.py\u001b[0m\u001b]8;;\u001b\\\u001b[2m:\u001b[0m\u001b]8;id=961882;file:///opt/homebrew/lib/python3.9/site-packages/dbtc/client/admin.py#1375\u001b\\\u001b[2m1375\u001b[0m\u001b]8;;\u001b\\\n",
       "\u001b[2;36m           \u001b[0m\u001b[4;94mhttps://cloud.getdbt.com/next/deploy/96504/projects/161955/runs/100846129/\u001b[0m                 \u001b[2m             \u001b[0m\n"
      ]
     },
     "metadata": {},
     "output_type": "display_data"
    },
    {
     "data": {
      "text/html": [
       "<pre style=\"white-space:pre;overflow-x:auto;line-height:normal;font-family:Menlo,'DejaVu Sans Mono',consolas,'Courier New',monospace\"><span style=\"color: #7fbfbf; text-decoration-color: #7fbfbf\">[16:31:13] </span>Status: <span style=\"color: #008000; text-decoration-color: #008000\">\"Success\"</span>, Elapsed time: <span style=\"color: #008080; text-decoration-color: #008080; font-weight: bold\">21.</span>0s, View here:                                         <a href=\"file:///opt/homebrew/lib/python3.9/site-packages/dbtc/client/admin.py\" target=\"_blank\"><span style=\"color: #7f7f7f; text-decoration-color: #7f7f7f\">admin.py</span></a><span style=\"color: #7f7f7f; text-decoration-color: #7f7f7f\">:</span><a href=\"file:///opt/homebrew/lib/python3.9/site-packages/dbtc/client/admin.py#1375\" target=\"_blank\"><span style=\"color: #7f7f7f; text-decoration-color: #7f7f7f\">1375</span></a>\n",
       "<span style=\"color: #7fbfbf; text-decoration-color: #7fbfbf\">           </span><span style=\"color: #0000ff; text-decoration-color: #0000ff; text-decoration: underline\">https://cloud.getdbt.com/next/deploy/96504/projects/161955/runs/100846129/</span>                 <span style=\"color: #7f7f7f; text-decoration-color: #7f7f7f\">             </span>\n",
       "</pre>\n"
      ],
      "text/plain": [
       "\u001b[2;36m[16:31:13]\u001b[0m\u001b[2;36m \u001b[0mStatus: \u001b[32m\"Success\"\u001b[0m, Elapsed time: \u001b[1;36m21.\u001b[0m0s, View here:                                         \u001b]8;id=809332;file:///opt/homebrew/lib/python3.9/site-packages/dbtc/client/admin.py\u001b\\\u001b[2madmin.py\u001b[0m\u001b]8;;\u001b\\\u001b[2m:\u001b[0m\u001b]8;id=414498;file:///opt/homebrew/lib/python3.9/site-packages/dbtc/client/admin.py#1375\u001b\\\u001b[2m1375\u001b[0m\u001b]8;;\u001b\\\n",
       "\u001b[2;36m           \u001b[0m\u001b[4;94mhttps://cloud.getdbt.com/next/deploy/96504/projects/161955/runs/100846129/\u001b[0m                 \u001b[2m             \u001b[0m\n"
      ]
     },
     "metadata": {},
     "output_type": "display_data"
    }
   ],
   "source": [
    "# setting inputs\n",
    "dbt_cloud_account_id = 123456\n",
    "dbt_cloud_job_id = 569845\n",
    "job_payload = {\n",
    "  \"cause\": \"Kicked off from Jupyter Notebook by Steve\",\n",
    "  \"steps_override\": [\n",
    "    \"dbt seed\"\n",
    "  ]\n",
    "}\n",
    "\n",
    "# triggering dbt cloud job \n",
    "job_trigger = dbt_cloud_client.cloud.trigger_job(account_id = dbt_cloud_account_id, \n",
    "                                      job_id = dbt_cloud_job_id, \n",
    "                                      payload = job_payload, \n",
    "                                      should_poll = True,\n",
    "                                      poll_interval = 10)"
   ]
  },
  {
   "cell_type": "markdown",
   "id": "00382aae",
   "metadata": {},
   "source": [
    "#### Retrieving info from a run \n",
    "- can be used to retieve errors"
   ]
  },
  {
   "cell_type": "code",
   "execution_count": 20,
   "id": "5482b93d",
   "metadata": {},
   "outputs": [],
   "source": [
    "# pulling the job run id from the object that kicked off the job above\n",
    "job_run_id = job_trigger['data']['id']\n",
    "\n",
    "# defining run status\n",
    "run_info = dbt_cloud_client.cloud.get_run(account_id = dbt_cloud_account_id, \n",
    "                               run_id = job_run_id)\n",
    "\n",
    "# printing the run info\n",
    "print(run_info)\n",
    "\n",
    "# example run info below"
   ]
  },
  {
   "cell_type": "markdown",
   "id": "5a1f1a89",
   "metadata": {},
   "source": [
    "Example run info returned as dict:\n",
    "\n",
    "</br>\n",
    "\n",
    "```{'status': {'code': 200, 'is_success': True, 'user_message': 'Success!', 'developer_message': ''}, 'data': {'id': 100846129, 'trigger_id': 101561260, 'account_id': 123456, 'environment_id': 56789, 'project_id': 569888, 'job_definition_id': 569845, 'status': 10, 'dbt_version': '1.2.0-latest', 'git_branch': 'main', 'git_sha': '6231f4a8bc92452454fea8d20bb0d84dd4b32407', 'status_message': None, 'owner_thread_id': None, 'executed_by_thread_id': 'dbt-run-569888', 'deferring_run_id': None, 'artifacts_saved': True, 'artifact_s3_path': 'prod/runs/569888/artifacts/target', 'has_docs_generated': False, 'has_sources_generated': False, 'notifications_sent': True, 'blocked_by': [], 'scribe_enabled': True, 'created_at': '2022-11-28 21:30:52.210228+00:00', 'updated_at': '2022-11-28 21:31:11.610886+00:00', 'dequeued_at': '2022-11-28 21:30:52.248203+00:00', 'started_at': '2022-11-28 21:30:57.237571+00:00', 'finished_at': '2022-11-28 21:31:11.208356+00:00', 'last_checked_at': '2022-11-28 21:31:11.514719+00:00', 'last_heartbeat_at': '2022-11-28 21:30:57.223247+00:00', 'should_start_at': '2022-11-28 21:30:52.210228+00:00', 'trigger': None, 'job': None, 'environment': None, 'run_steps': [], 'status_humanized': 'Success', 'in_progress': False, 'is_complete': True, 'is_success': True, 'is_error': False, 'is_cancelled': False, 'href': 'https://cloud.getdbt.com/next/deploy/123456/projects/161955/runs/569845/', 'duration': '00:00:18', 'queued_duration': '00:00:05', 'run_duration': '00:00:13', 'duration_humanized': '18 seconds', 'queued_duration_humanized': '5 seconds', 'run_duration_humanized': '13 seconds', 'created_at_humanized': '5 minutes, 17 seconds ago', 'finished_at_humanized': '4 minutes, 58 seconds ago', 'job_id': 569845, 'is_running': None}}```"
   ]
  }
 ],
 "metadata": {
  "kernelspec": {
   "display_name": "Python 3 (ipykernel)",
   "language": "python",
   "name": "python3"
  },
  "language_info": {
   "codemirror_mode": {
    "name": "ipython",
    "version": 3
   },
   "file_extension": ".py",
   "mimetype": "text/x-python",
   "name": "python",
   "nbconvert_exporter": "python",
   "pygments_lexer": "ipython3",
   "version": "3.9.13"
  }
 },
 "nbformat": 4,
 "nbformat_minor": 5
}
